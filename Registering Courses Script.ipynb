{
 "cells": [
  {
   "cell_type": "code",
   "execution_count": null,
   "id": "d0a4abaf",
   "metadata": {},
   "outputs": [],
   "source": [
    "# Please fill these information and then run the code\n",
    "userName = \"\" # write your username to sign in\n",
    "password = \"\" # write your password to sign in\n",
    "crn = [] # write the crns\n",
    "term = \"\" # term\n",
    "\n",
    "\n",
    "\n",
    "from selenium import webdriver\n",
    "from selenium.webdriver.common.by import By\n",
    "import pyautogui\n",
    "import time\n",
    "\n",
    "# Opening the banner\n",
    "driver = webdriver.Chrome()\n",
    "driver.implicitly_wait(30)\n",
    "driver.get(\"https://banner9-registration.kfupm.edu.sa/StudentRegistrationSsb/ssb/registration/registration\")\n",
    "\n",
    "\n",
    "# Clicking on add/drop\n",
    "driver.find_element(By.PARTIAL_LINK_TEXT, \"Add/Drop Classes\").click()\n",
    "\n",
    "# Sign in\n",
    "userInputElement = driver.find_element(By.ID, 'usernameUserInput')\n",
    "userInputElement.click()\n",
    "pyautogui.typewrite(userName)\n",
    "passwordInputElement = driver.find_element(By.ID, 'password')\n",
    "passwordInputElement.send_keys(password)\n",
    "signInButtonElement = driver.find_element(By.XPATH,'/html/body/div[1]/div/div/div/form/div[3]/div/button')\n",
    "signInButtonElement.click()\n",
    "#time.sleep(1)\n",
    "\n",
    "# Choosing semester\n",
    "driver.find_element(By.CLASS_NAME, 'select2-choice').click()\n",
    "driver.find_element(By.ID, '20'+term+'0').click()\n",
    "driver.find_element(By.ID, 'term-go').click()\n",
    "\n",
    "# Entering crns\n",
    "driver.find_element(By.ID, 'enterCRNs-tab').click()\n",
    "crnFieldNumber = 1\n",
    "driver.find_element(By.ID, 'txt_crn1').click()\n",
    "for i in crn:\n",
    "    pyautogui.typewrite(str(i))\n",
    "    driver.find_element(By.ID, 'addAnotherCRN').click()\n",
    "\n",
    "driver.find_element(By.ID, 'addCRNbutton').click()\n",
    "time.sleep(2)\n",
    "driver.find_element(By.ID, 'saveButton').click()"
   ]
  },
  {
   "cell_type": "code",
   "execution_count": null,
   "id": "e1022764",
   "metadata": {},
   "outputs": [],
   "source": []
  }
 ],
 "metadata": {
  "kernelspec": {
   "display_name": "Python 3",
   "language": "python",
   "name": "python3"
  },
  "language_info": {
   "codemirror_mode": {
    "name": "ipython",
    "version": 3
   },
   "file_extension": ".py",
   "mimetype": "text/x-python",
   "name": "python",
   "nbconvert_exporter": "python",
   "pygments_lexer": "ipython3",
   "version": "3.8.8"
  },
  "toc": {
   "base_numbering": 1,
   "nav_menu": {},
   "number_sections": true,
   "sideBar": true,
   "skip_h1_title": false,
   "title_cell": "Table of Contents",
   "title_sidebar": "Contents",
   "toc_cell": false,
   "toc_position": {},
   "toc_section_display": true,
   "toc_window_display": false
  }
 },
 "nbformat": 4,
 "nbformat_minor": 5
}
